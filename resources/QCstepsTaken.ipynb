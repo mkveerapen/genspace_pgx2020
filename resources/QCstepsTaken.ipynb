{
 "cells": [
  {
   "cell_type": "markdown",
   "metadata": {},
   "source": [
    "General QC that you could run yourself! These code snippets are adapted from [https://choishingwan.github.io/PRS-Tutorial/target/#35-standard-gwas-qc](https://choishingwan.github.io/PRS-Tutorial/target/#35-standard-gwas-qc)\n",
    "\n",
    "This notebook is quick and dry annotations/comments. They are not very extensive and I would suggest referring to the git hub repo referred to above."
   ]
  },
  {
   "cell_type": "markdown",
   "metadata": {},
   "source": [
    "First QC is to filter for keeping common variants and variants that pass HWE"
   ]
  },
  {
   "cell_type": "code",
   "execution_count": null,
   "metadata": {},
   "outputs": [],
   "source": [
    "system(\"./plink --bfile Pherandom.reduced_1000_Genomes --maf 0.01 --allow-no-sex --hwe 1e-6 --geno 0.01 --mind 0.01 --write-snplist --make-just-fam --out QC/Pherandom.reduced_1000_Genome.QC\", intern=T)"
   ]
  },
  {
   "cell_type": "markdown",
   "metadata": {},
   "source": [
    "running with a window size of 200kb, sliding across the genome with step size of 50 variants at a time, and filter out any SNPs with LD r<sup>2</sup>  higher than 0.25"
   ]
  },
  {
   "cell_type": "code",
   "execution_count": null,
   "metadata": {},
   "outputs": [],
   "source": [
    "system(\"./plink --bfile Pherandom.reduced_1000_Genomes --keep QC/Pherandom.reduced_1000_Genome.QC.fam --extract QC/Pherandom.reduced_1000_Genome.QC.snplist --indep-pairwise 200 50 0.25 --out QC/Pherandom.reduced_1000_Genome.QC\", intern=T)"
   ]
  },
  {
   "cell_type": "markdown",
   "metadata": {},
   "source": [
    "Checking for heterozygotes"
   ]
  },
  {
   "cell_type": "code",
   "execution_count": null,
   "metadata": {},
   "outputs": [],
   "source": [
    "system(\"./plink --bfile Pherandom.reduced_1000_Genomes --extract QC/Pherandom.reduced_1000_Genome.QC.prune.in --keep QC/Pherandom.reduced_1000_Genome.QC.fam --het --out QC/Pherandom.reduced_1000_Genome.QC\", intern=T)"
   ]
  },
  {
   "cell_type": "markdown",
   "metadata": {},
   "source": [
    "Usually, you would throw out any relatives that are 2nd degree or more (or adjust it later in a mixed regression model using something known as a kinship matrix).\n",
    "In this example, I used 0.99 because Laramie kept everyone"
   ]
  },
  {
   "cell_type": "code",
   "execution_count": null,
   "metadata": {},
   "outputs": [],
   "source": [
    "system(\"./plink --bfile Pherandom.reduced_1000_Genomes --extract QC/Pherandom.reduced_1000_Genome.QC.prune.in --rel-cutoff 0.99 --out QC/Pherandom.reduced_1000_Genome.QC\", intern=T)"
   ]
  },
  {
   "cell_type": "code",
   "execution_count": null,
   "metadata": {},
   "outputs": [],
   "source": [
    "system(\"./plink --bfile Pherandom.reduced_1000_Genomes --make-bed --keep QC/Pherandom.reduced_1000_Genome.QC.rel.id --out QC/Pherandom.reduced_1000_Genome.QC --extract QC/Pherandom.reduced_1000_Genome.QC.snplist\", intern=T)"
   ]
  },
  {
   "cell_type": "markdown",
   "metadata": {},
   "source": [
    "There's sometimes variants and markers that do not match. These were taken almost verbatim from the git repo referred to in the first line above"
   ]
  },
  {
   "cell_type": "code",
   "execution_count": null,
   "metadata": {},
   "outputs": [],
   "source": [
    "bim <- read.table(\"QC/Pherandom.reduced_1000_Genome.QC.bim\")\n",
    "colnames(bim) <- c(\"CHR\", \"SNP\", \"CM\", \"BP\", \"B.A1\", \"B.A2\")\n",
    "# Read in QCed SNPs\n",
    "qc <- read.table(\"QC/Pherandom.reduced_1000_Genome.QC.snplist\", header = F, stringsAsFactors = F)\n",
    "# Read in MDD/SCZ data\n",
    "MDD <-\n",
    "    read.table(gzfile(\"MDD_2019_logORpVal\"),\n",
    "               header = T,\n",
    "               stringsAsFactors = F, \n",
    "               sep=\"\\t\")\n",
    "\n",
    "## Strand flipping\n",
    "info <- merge(x=bim, y=MDD, by.x=\"SNP\", by.y=\"SNP\")\n",
    "# Filter QCed SNPs\n",
    "info <- info[info$SNP %in% qc$V1,]\n",
    "# Function for finding the complementary allele\n",
    "complement <- function(x) {\n",
    "    switch (\n",
    "        x,\n",
    "        \"A\" = \"T\",\n",
    "        \"C\" = \"G\",\n",
    "        \"T\" = \"A\",\n",
    "        \"G\" = \"C\",\n",
    "        return(NA)\n",
    "    )\n",
    "}"
   ]
  },
  {
   "cell_type": "code",
   "execution_count": null,
   "metadata": {},
   "outputs": [],
   "source": [
    "info$A1 <- sapply(info$A2, complement)\n",
    "\n"
   ]
  },
  {
   "cell_type": "code",
   "execution_count": null,
   "metadata": {},
   "outputs": [],
   "source": [
    "# Get SNPs that have the same alleles across base and target\n",
    "info.match <- subset(info, A1 == B.A1 & A2 == B.A2)\n",
    "\n"
   ]
  },
  {
   "cell_type": "code",
   "execution_count": null,
   "metadata": {},
   "outputs": [],
   "source": [
    "# Identify SNPs that are complementary between base and target\n",
    "info$C.A1 <- sapply(as.character(info$B.A1), complement)\n",
    "info$C.A2 <- sapply(as.character(info$B.A2), complement)"
   ]
  },
  {
   "cell_type": "code",
   "execution_count": null,
   "metadata": {},
   "outputs": [],
   "source": [
    "info.complement <- subset(info, A1 == C.A1 & A2 == C.A2)"
   ]
  },
  {
   "cell_type": "code",
   "execution_count": null,
   "metadata": {},
   "outputs": [],
   "source": [
    "# Update the complementary alleles in the bim file\n",
    "# This allow us to match the allele in subsequent analysis\n",
    "complement.snps <- bim$SNP %in% info.complement$SNP\n",
    "bim[complement.snps,]$B.A1 <-\n",
    "    sapply(as.character(bim[complement.snps,]$B.A1), complement)\n",
    "bim[complement.snps,]$B.A2 <-\n",
    "    sapply(as.character(bim[complement.snps,]$B.A2), complement)\n",
    "\n",
    "info.recode <- subset(info, A1 == B.A2 & A2 == B.A1)"
   ]
  },
  {
   "cell_type": "code",
   "execution_count": null,
   "metadata": {},
   "outputs": [],
   "source": [
    "# Update the recode SNPs\n",
    "recode.snps <- bim$SNP %in% info.recode$SNP\n",
    "tmp <- bim[recode.snps,]$B.A1\n",
    "bim[recode.snps,]$B.A1 <- bim[recode.snps,]$B.A2\n",
    "bim[recode.snps,]$B.A2 <- tmp"
   ]
  },
  {
   "cell_type": "code",
   "execution_count": null,
   "metadata": {},
   "outputs": [],
   "source": [
    "# identify SNPs that need recoding & complement\n",
    "info.crecode <- subset(info, A1 == C.A2 & A2 == C.A1)"
   ]
  },
  {
   "cell_type": "code",
   "execution_count": null,
   "metadata": {},
   "outputs": [],
   "source": [
    "# Update the recode + strand flip SNPs\n",
    "com.snps <- bim$SNP %in% info.crecode$SNP\n",
    "tmp <- bim[com.snps,]$B.A1\n",
    "bim[com.snps,]$B.A1 <- as.character(sapply(as.character(bim[com.snps,]$B.A2), complement))\n",
    "bim[com.snps,]$B.A2 <- as.character(sapply(as.character(tmp), complement))"
   ]
  },
  {
   "cell_type": "code",
   "execution_count": null,
   "metadata": {},
   "outputs": [],
   "source": [
    "# Output updated bim file\n",
    "write.table(\n",
    "    bim,\n",
    "    \"QC/Pherandom.reduced_1000_Genome.QC.adj.bim\",\n",
    "    quote = F,\n",
    "    row.names = F,\n",
    "    col.names = F,\n",
    "    sep=\"\\t\"\n",
    ")"
   ]
  },
  {
   "cell_type": "code",
   "execution_count": null,
   "metadata": {},
   "outputs": [],
   "source": [
    "#output mismatches\n",
    "mismatch <-\n",
    "    bim$SNP[!(bim$SNP %in% info.match$SNP |\n",
    "                  bim$SNP %in% info.complement$SNP | \n",
    "                  bim$SNP %in% info.recode$SNP |\n",
    "                  bim$SNP %in% info.crecode$SNP)]\n",
    "\n",
    "write.table(\n",
    "    mismatch,\n",
    "    \"QC/Pherandom.reduced_1000_Genome.QC.mismatch\",\n",
    "    quote = F,\n",
    "    row.names = F,\n",
    "    col.names = F\n",
    ")"
   ]
  },
  {
   "cell_type": "markdown",
   "metadata": {},
   "source": [
    "Renaming files so that you can run the plink files later for calculation"
   ]
  },
  {
   "cell_type": "code",
   "execution_count": null,
   "metadata": {},
   "outputs": [],
   "source": [
    "system(\"mv QC/Pherandom.reduced_1000_Genome.QC.bim QC/Pherandom.reduced_1000_Genome.QC.bim.bk\", intern=T)\n",
    "system(\"mv QC/Pherandom.reduced_1000_Genome.QC.adj.bim QC/Pherandom.reduced_1000_Genome.QC.bim\", intern=T)"
   ]
  },
  {
   "cell_type": "markdown",
   "metadata": {},
   "source": [
    "LD clumping"
   ]
  },
  {
   "cell_type": "code",
   "execution_count": null,
   "metadata": {},
   "outputs": [],
   "source": [
    "system(\"./plink --bfile QC/Pherandom.reduced_1000_Genome.QC --clump-p1 1 --clump-r2 0.1 --clump-kb 250 --clump MDD_2019_logORpVal --clump-snp-field SNP --clump-field P --out QC/Pherandom.reduced_1000_Genome.QC\", intern=T)"
   ]
  },
  {
   "cell_type": "markdown",
   "metadata": {},
   "source": [
    "Obtaining the valid SNPs"
   ]
  },
  {
   "cell_type": "code",
   "execution_count": null,
   "metadata": {},
   "outputs": [],
   "source": [
    "system(\"awk 'NR!=1{print $3}' QC/Pherandom.reduced_1000_Genome.QC.clumped >  QC/Pherandom.reduced_1000_Genome.QC.clumped.valid.snp\", intern=T)"
   ]
  },
  {
   "cell_type": "markdown",
   "metadata": {},
   "source": [
    "Computing PRS"
   ]
  },
  {
   "cell_type": "code",
   "execution_count": null,
   "metadata": {},
   "outputs": [],
   "source": [
    "system(\"./plink --bfile  QC/Pherandom.reduced_1000_Genome.QC --score MDD_2019_logORpVal 1 2 3 header no-mean-imputation --q-score-range q.ranges.GWASsig_to_1 MDD_2019_pvalue_score --extract QC/Pherandom.reduced_1000_Genome.QC.clumped.valid.snp --allow-no-sex --out OUTCOME/MDD\", intern=T)"
   ]
  },
  {
   "cell_type": "code",
   "execution_count": null,
   "metadata": {},
   "outputs": [],
   "source": []
  }
 ],
 "metadata": {
  "kernelspec": {
   "display_name": "R",
   "language": "R",
   "name": "ir"
  },
  "language_info": {
   "codemirror_mode": "r",
   "file_extension": ".r",
   "mimetype": "text/x-r-source",
   "name": "R",
   "pygments_lexer": "r",
   "version": "3.6.1"
  }
 },
 "nbformat": 4,
 "nbformat_minor": 4
}
