{
 "cells": [
  {
   "cell_type": "markdown",
   "metadata": {},
   "source": [
    "# GenSpace Workshop for Personalized Medicine\n",
    "### Date: July 26th, 2020\n",
    "### Objective: How to calculate Polygenic Risk Scores (PRS) to understand SSRI response\n",
    "### Facilitator: [Kumar Veerapen, PhD](mailto:veerapen@broadinstitute.org) and [Caitlin Cooney, CGC](mailto:caitcooney@gmail.com)\n",
    "_Creation of this hands-on workshop material is thanks to the inspiration from materials provided by Laramie Duncan, PhD, and Hanyang Shen, MS, Stanford University._\n",
    "\n",
    "_Materials from this notebook is complementary from the lecture slides found [here](https://docs.google.com/presentation/d/1kVnEgBtYxORmRk_0A0i6PXd2kX7XGYgHHg3rWw1vUCw/edit?usp=sharing)_"
   ]
  },
  {
   "cell_type": "markdown",
   "metadata": {},
   "source": [
    "## Learning objectives\n",
    "\n",
    "1) To learn basic commands in Jupyter notebooks\n",
    "\n",
    "2) To understand the calculation of PRS\n",
    "\n",
    "3) To determine association of PRS to a genetic trait of interest\n",
    "\n",
    "3) To define statistical limitations of PRS\n",
    "\n",
    "4) To figure out what is considered a best fit PRS model"
   ]
  },
  {
   "cell_type": "markdown",
   "metadata": {},
   "source": [
    "## What is Polygenic Risk Score (PRS)?\n",
    "\n",
    "An area in genetics that has large traction is understanding polygenicity of genetic traits. In recent years genome-wide association studies (GWAS) have discovered thousands of genetic variants associated both with diseases (depression, heart disease) and complex traits (height). Complex traits are traits derived from multiple genes, and exhibit a large range of attributes. \n",
    "\n",
    "Polygenic risk scores evaluate these variants to help provide a personalized and more accurate risk/prediction assessment such as depression and height. The term PRS is synonymous with Genomic Risk Scores (GRS), Risk Profile Scores (RPS), or simply genetic scores. \n",
    "\n",
    "Despite being a trendy method in understanding genetic traits, these scores are far from perfect. The PRS that have been published thus far usually tend to explain less than [20% of a trait variance in complex traits](https://genomemedicine.biomedcentral.com/articles/10.1186/s13073-018-0610-x). \n",
    "\n",
    "There are strengths and weaknesses to utilize PRS which are covered in the lecture session of this hands-on workshop. "
   ]
  },
  {
   "cell_type": "markdown",
   "metadata": {},
   "source": [
    "## What are we doing? \n",
    "\n",
    "This hand-on workshop will allow you to explore a conventional approach to computing PRS using a ubiquitous genetics tool called [PLINK](http://www.cog-genomics.org/plink2/). \n",
    "\n",
    "**Problem statement**: Scientifically, we know that approx [53-65% of patients with depression respond well to antidepressants](https://europepmc.org/article/med/10362442). \n",
    "\n",
    "**Hypothesis**: We hypothesize that this variability is potentially caused by genetic risk.\n",
    "\n",
    "**Scientific question/objective**:  Are individuals with higher depression PRS more responsive to selective serotonin reuptake inhibitors (SSRI) [a type of antidepressant]?"
   ]
  },
  {
   "cell_type": "markdown",
   "metadata": {},
   "source": [
    "## Step by step overview\n",
    "\n",
    "### First... \n",
    "_We will obtain a reference data that contains effect sizes needed for calculating PRS._\n",
    "\n",
    "\n",
    "_Effect size_ : a statistical concept that measures the strength of the relationship between two variables on a numeric scale.  \n",
    "_Example_ : If we look at a population’s height, on average men are taller than women. This difference between the height of men and the height of women is known as the effect size.  If the effect size is high, there is a higher height difference between men and women. If the effect size is small, there is less height difference. \n",
    "\n",
    "The effect sizes (or summary statistics) that we will be using were generated from a reference data published by [David Howard and co in _Nature Neuroscience_ (2019)](https://www.nature.com/articles/s41593-018-0326-7). Their study attempted to understand the genetic risk of major depressive disorder in a very large collection of depressed patients. The reference data from this paper will contain  effect sizes that we will need to calculate PRS in our test data which is a modified version of the 1000 Genomes Project.\n",
    "\n",
    "[The 1000 Genomes Project ran between 2008 and 2015, creating the largest public catalogue of human variation and genotype data](https://www.internationalgenome.org/about)\n",
    "\n",
    "&emsp; In this project, variation means to look for polymorphisms (genetic variants with frequencies of at least 1% in the populations studied)\n",
    "\n",
    "### Second...\n",
    "_We will calculate the PRS to answer our scientific question (refer to previous cell)._\n",
    "\n",
    "Using the effect sizes from our reference data (Howard et al 2019), we will then calculate PRS from samples obtained from a modified version of the 1000 Genomes data on a binary trait called selective serotonin reuptake inhibitor (SSRI) response. An SSRI is a typical group of antidepressants prescribed to patients with depressive symptoms.\n",
    "\n",
    "The trait that you are analysing was simulated where\n",
    "\n",
    "**1** =the individual did not show an improvement in their depressive symptoms (measured by depression scores)\n",
    "\n",
    "**2** = the individual showed an improvement in their depressive symptoms (measured by depression scores)\n",
    "\n",
    "### Third...\n",
    "_We will use the PRS calculation to find an association to the trait that we are testing -- SSRI response._\n",
    "\n",
    "Finally, we will then use a statistical programming tool called R in order to 1) analyse the PRS generated; and 2) visualize our PRS using plots.\n",
    "\n",
    "In order to provide a little understanding of the code that we are running, we have included some details in the comment section of your workshop. "
   ]
  },
  {
   "cell_type": "markdown",
   "metadata": {},
   "source": [
    "Let’s start with finding out how to use Jupyter notebook in order to run your analysis.\n",
    "\n",
    "## Using Jupyter\n",
    "### Running cells\n",
    "Evaluate cells using SHIFT + ENTER. Select the next cell and run it"
   ]
  },
  {
   "cell_type": "code",
   "execution_count": null,
   "metadata": {},
   "outputs": [],
   "source": [
    "print('Hello, world')"
   ]
  },
  {
   "cell_type": "markdown",
   "metadata": {},
   "source": [
    "### Modes\n",
    "\n",
    "Jupyter has two modes, a **navigation mode** and an **editor mode**.\n",
    "\n",
    "#### Navigation mode:\n",
    "\n",
    " - <font color=\"blue\"><strong>BLUE</strong></font> cell borders\n",
    " - `UP` / `DOWN` move between cells\n",
    " - `ENTER` while a cell is selected will move to **editing mode**.\n",
    " - Many letters are keyboard shortcuts! This is a common trap.\n",
    " \n",
    "#### Editor mode:\n",
    "\n",
    " - <font color=\"green\"><strong>GREEN</strong></font> cell borders\n",
    " - `UP` / `DOWN`/ move within cells before moving between cells.\n",
    " - `ESC` will return to **navigation mode**.\n",
    " - `SHIFT + ENTER` will evaluate a cell and return to **navigation mode**."
   ]
  },
  {
   "cell_type": "markdown",
   "metadata": {},
   "source": [
    "### Cell types\n",
    "\n",
    "There are several types of cells in Jupyter notebooks. The two you will see here are **Markdown** (text) and **Code**."
   ]
  },
  {
   "cell_type": "code",
   "execution_count": null,
   "metadata": {},
   "outputs": [],
   "source": [
    "# This is a code cell\n",
    "my_variable = 5"
   ]
  },
  {
   "cell_type": "markdown",
   "metadata": {},
   "source": [
    "**This is a markdown cell**, so even if something looks like code (as below), it won't get executed!\n",
    "\n",
    "my_variable += 1"
   ]
  },
  {
   "cell_type": "markdown",
   "metadata": {},
   "source": [
    "### Tips and tricks\n",
    "\n",
    "Keyboard shortcuts:\n",
    "\n",
    " - `SHIFT + ENTER` to evaluate a cell\n",
    " - `ESC` to return to navigation mode\n",
    " - `y` to turn a markdown cell into code\n",
    " - `m` to turn a code cell into markdown\n",
    " - `a` to add a new cell **above** the currently selected cell\n",
    " - `b` to add a new cell **below** the currently selected cell\n",
    " - `d, d` (repeated) to delete the currently selected cell\n",
    " - `TAB` to activate code completion\n",
    " \n",
    "To try this out, create a new cell below this one using `b`, and print `my_variable` by starting with `print(my` and pressing `TAB`!"
   ]
  },
  {
   "cell_type": "markdown",
   "metadata": {},
   "source": [
    "## Set up R environment with packages that you will need\n",
    "\n",
    "[R is a statistical programming tool](https://www.r-project.org/) (that's free) is a tool that many analysts use in order to analyse their datasets. This is especially true in genetics where we are cheap with buying software and analytic tools. With R, you can set up your environment to get additional tools to run some of your analyses. \n",
    "\n",
    "The common practice in R is to load all of your needed tools (called packages) at the beginning of your script, i.e. the next line."
   ]
  },
  {
   "cell_type": "markdown",
   "metadata": {},
   "source": [
    "`fmsb` will be used in order to calculate the variance explained by the PRS that you will be computing\n",
    "The first line here, downloads the package into your environment."
   ]
  },
  {
   "cell_type": "markdown",
   "metadata": {},
   "source": [
    "Let's load the package into your environment now"
   ]
  },
  {
   "cell_type": "code",
   "execution_count": null,
   "metadata": {},
   "outputs": [],
   "source": [
    "library(fmsb)"
   ]
  },
  {
   "cell_type": "markdown",
   "metadata": {},
   "source": [
    "When you want to look up a function in R, you can use a `?` sign"
   ]
  },
  {
   "cell_type": "code",
   "execution_count": null,
   "metadata": {},
   "outputs": [],
   "source": []
  },
  {
   "cell_type": "markdown",
   "metadata": {},
   "source": [
    "# Let’s get started! \n",
    "## Step 0: Exploration of your files and directories"
   ]
  },
  {
   "cell_type": "markdown",
   "metadata": {},
   "source": [
    "Where are you? "
   ]
  },
  {
   "cell_type": "code",
   "execution_count": null,
   "metadata": {},
   "outputs": [],
   "source": [
    "getwd()"
   ]
  },
  {
   "cell_type": "markdown",
   "metadata": {},
   "source": [
    "What files are in your directory (a.k.a. folder)?"
   ]
  },
  {
   "cell_type": "code",
   "execution_count": null,
   "metadata": {},
   "outputs": [],
   "source": [
    "list.files()"
   ]
  },
  {
   "cell_type": "markdown",
   "metadata": {},
   "source": [
    "These are the files that we will be using for the workshop!\n",
    "\n",
    "_What files are what?_"
   ]
  },
  {
   "cell_type": "markdown",
   "metadata": {},
   "source": [
    "### PLINK files \n",
    "\n",
    "For [PLINK](http://www.cog-genomics.org/plink2/), we have 3 files that will be used which are `.bed`, `.bim`, and `.fam` files. \n",
    "\n",
    "These are known as binary PLINK files where "
   ]
  },
  {
   "cell_type": "markdown",
   "metadata": {},
   "source": [
    "#### .bed file \n",
    "\n",
    "File name: `Pherandom.reduced_1000_Genomes.bed`\n",
    "\n",
    "contains the genetic information for each individual in 0 and 1s. This file would contain individual level data such as deidentified sample ID, family ID (if applicable), and genotypes at multiple positions in the genome.  \n",
    "This file cannot be viewed because it is a binary file. "
   ]
  },
  {
   "cell_type": "markdown",
   "metadata": {},
   "source": [
    "#### .bim file\n",
    "\n",
    "File name: `Pherandom.reduced_1000_Genomes.bim`\n",
    "\n",
    "If the bed file contains the individual ID, the `.bim` file contain that generalized information. Think of the `.bim` files as Google map, and the `.bed` file as a person on the map. \n",
    "\n",
    "This file contains locations of the genetic information that was captured such as which chromosome the variants are on. It has 6 columns and the most important are the 1st, 2nd, 4th, 5th, and 6th:\n",
    "\n",
    "(1) Chromosome number\n",
    "\n",
    "(2) SNP name / ID (oftentimes and ‘rs’ number)\n",
    "\n",
    "(4) Chromosome Position\n",
    "\n",
    "(5) Reference / Wildtype Allele\n",
    "\n",
    "(6) Variant Allele\n",
    "\n",
    "Let's view it with"
   ]
  },
  {
   "cell_type": "code",
   "execution_count": null,
   "metadata": {},
   "outputs": [],
   "source": [
    "bim.file <- read.table(\"Pherandom.reduced_1000_Genomes.bim\", header=F, sep=\"\\t\")\n",
    "head(bim.file)"
   ]
  },
  {
   "cell_type": "markdown",
   "metadata": {},
   "source": [
    "#### .fam file\n",
    "\n",
    "File name: `Pherandom.reduced_1000_Genomes.fam`\n",
    "\n",
    "contains the individual ID and family name (for this workshop, ALL individuals have been deindentified). \n",
    "\n",
    "The 1st, 2nd, and 6th columns are the important ones for this workshop.\n",
    "\n",
    "(1) Family ID = FID\n",
    "\n",
    "(2) Individual ID = IID\n",
    "\n",
    "(6) Trait identification. \n",
    "\n",
    "_Note_ that `1` means control and `2` means case, per PLINK conventions. The trait values here are randomly generated where : \n",
    "\n",
    "**`1`** would indicate that the individual did not show an improvement in their depressive symptoms.\n",
    "\n",
    "**`2`** would indicate that the individual showed an improvement in their depressive symptoms\n",
    "\n",
    "Let's view this file\n"
   ]
  },
  {
   "cell_type": "code",
   "execution_count": null,
   "metadata": {},
   "outputs": [],
   "source": [
    "fam.file <- read.table(\"Pherandom.reduced_1000_Genomes.fam\", header=F, sep=\"\")\n",
    "head(fam.file)"
   ]
  },
  {
   "cell_type": "markdown",
   "metadata": {},
   "source": [
    "### Files used for scoring \n",
    "\n",
    "The reference data that we are using for computing PRS are also here in this environment.  A reminder the reference data used in this workshop is from [David Howard and co on genetic associations in major depressive disorder published in 2019](https://www.nature.com/articles/s41593-018-0326-7). \n",
    "\n",
    "There are 3 files that we will need which are the\n",
    "\n",
    "1) “Score File”, \n",
    "\n",
    "2) “p-value file\", and\n",
    "\n",
    "3) the \"TRANCHE file”"
   ]
  },
  {
   "cell_type": "markdown",
   "metadata": {},
   "source": [
    "#### The “Score file”\n",
    "\n",
    "File name: `MDD_2019_logOR_score`. \n",
    "\n",
    "This file contains the effect sizes from David Howard’s paper needed for our PRS calculation. There are 3 columns in this file which are SNP ID, Risk allele, and logOR (the effect size that we keep talking about).\n",
    "\n",
    "Let's view it"
   ]
  },
  {
   "cell_type": "code",
   "execution_count": null,
   "metadata": {},
   "outputs": [],
   "source": [
    "score.file <- read.table(\"MDD_2019_logOR_score\", header=T, sep=\"\")\n",
    "head(score.file)"
   ]
  },
  {
   "cell_type": "markdown",
   "metadata": {},
   "source": [
    "#### The “p-value file” \n",
    "\n",
    "File name : `MDD_2019_pvalue_score`. \n",
    "\n",
    "This file contains the p-values from David Howard’s paper that were used to tell if an effect size was considered significant or not.\n",
    "\n",
    "As you are aware, we will need effect sizes in order to calculate PRS. These effect sizes were considered significant if they have a p-value that are less than 5 x 10<sup>-8</sup> (0.000000005) from David Howard’s paper. This value is a typical value used in genome-wide association studies (GWAS). That p-value would imply that the variant identified was 5 x 10<sup>-6</sup> (0.0000005)% a false positive. The usage of p-values is ubiquitous in all of statistics so that analysts do not go down rabbit holes of signals which were bad apples to begin with.\n",
    "\n",
    "This file contains 2 columns: `SNP ID` and `p-value`\n",
    "\n",
    "Let's view the file (Notice that there are p-values which are traditionally, insignificant)"
   ]
  },
  {
   "cell_type": "code",
   "execution_count": null,
   "metadata": {},
   "outputs": [],
   "source": [
    "pval.file <- read.table(\"MDD_2019_pvalue_score\", header=T, sep=\"\")\n",
    "head(pval.file)"
   ]
  },
  {
   "cell_type": "markdown",
   "metadata": {},
   "source": [
    "#### The “TRANCHE file” \n",
    "\n",
    "File name: `q.ranges.GWASsig_to_1`.\n",
    "\n",
    "This file contains tranches / bin / groups of p-value thresholds that will be used to group effect sizes for PRS calculations. The most strict of all p-values in the tranche file is the GWAS significant tranche (`PSi`). This would set our program (PLINK) to calculate PRS using effect sizes that were all having a p-value that are lower than 5 x 10<sup>-8</sup> or 0.000000005 (`PSi`). Tranches listed in the file range from the strictest p-value threshold to the most lenient which includes all the variants that were tested  in David Howard’s paper (p-value threshold of lower than 1.0 (all)). \n",
    "\n",
    "Let's view the file:"
   ]
  },
  {
   "cell_type": "code",
   "execution_count": null,
   "metadata": {},
   "outputs": [],
   "source": [
    "tranche.file <- read.table(\"q.ranges.GWASsig_to_1\", header=F, sep=\"\")\n",
    "head(tranche.file)"
   ]
  },
  {
   "cell_type": "markdown",
   "metadata": {},
   "source": [
    "_Note_ : In this analysis, we will be using **pe2** (0.001) for our downstream applications."
   ]
  },
  {
   "cell_type": "markdown",
   "metadata": {},
   "source": [
    "## Step 1 : Calculating Principal Components \n",
    "##### (Timing Check)\n",
    "\n",
    "_Note_ : This step will be done if we have time in the workshop. Also this step has been done for you and saved in your directory, just in case we are short on time."
   ]
  },
  {
   "cell_type": "markdown",
   "metadata": {},
   "source": [
    "Before we can start our PRS computations, we would need to capture the variance contributed by the different ancestries in our 1000 Genomes data. With multiple different ancestries, this may confound (a.k.a. mess up) our downstream analysis because humans are different from each other. By calculating principal components, we can capture some of the intrinsic differences observed in the 1000 Genome samples. "
   ]
  },
  {
   "cell_type": "markdown",
   "metadata": {},
   "source": [
    "_NOTE_ :  there are a few other steps that we would need to do to clean the data up that I have done for you which include pruning the data for variants for variants which are informative such as common variants etc.\n"
   ]
  },
  {
   "cell_type": "markdown",
   "metadata": {},
   "source": [
    "The tool that we can use to compute principal components is PLINK version 1.90.\n",
    "\n",
    "To run this:"
   ]
  },
  {
   "cell_type": "code",
   "execution_count": null,
   "metadata": {},
   "outputs": [],
   "source": [
    "system(\"./plink --bfile QC/Pherandom.reduced_1000_Genome.QC --pca 20 --out OUTCOME/PCA_20_for_1000_Genomes\", intern=T)"
   ]
  },
  {
   "cell_type": "markdown",
   "metadata": {},
   "source": [
    "`--bfile`  is to call in the PLINK binary files that we will need. This contains the 1000 Genomes samples\n",
    "\n",
    "`--pca` generate principal components and state number of components wanted, i.e. 20\n",
    "\n",
    "`--out` is to print out the principal components"
   ]
  },
  {
   "cell_type": "markdown",
   "metadata": {},
   "source": [
    "Where is our output PCs?"
   ]
  },
  {
   "cell_type": "code",
   "execution_count": null,
   "metadata": {},
   "outputs": [],
   "source": [
    "list.files(path=\"OUTCOME\", pattern=\"PCA_20_for_1000_Genomes\")"
   ]
  },
  {
   "cell_type": "markdown",
   "metadata": {},
   "source": [
    "## Step 2: Calculating Polygenic Risk Scores\n",
    "\n",
    "We have understood what files contain what pieces of information/data that we would need for our final analysis.\n",
    "\n",
    "We now get to compute PRS for our data. In order to do this, we can run the PLINK command as below, where description of each flag follows the code block\n"
   ]
  },
  {
   "cell_type": "code",
   "execution_count": null,
   "metadata": {},
   "outputs": [],
   "source": [
    "system(\"./plink --bfile Pherandom.reduced_1000_Genome --score MDD_2019_logORpVal 1 2 3 header no-mean-imputation --q-score-range q.ranges.GWASsig_to_1 MDD_2019_pvalue_score --extract QC/Pherandom.reduced_1000_Genome.QC.clumped.valid.snp --allow-no-sex --out OUTCOME/MDD\", intern=T)"
   ]
  },
  {
   "cell_type": "markdown",
   "metadata": {},
   "source": [
    "`--bfile` is to call in the PLINK binary files that we will need. This contains the 1000 Genomes samples\n",
    "\n",
    "\n",
    "`--score` is to call in the effect size “Score File” from David Howard’s 2019 MDD paper. \n",
    "\n",
    "We also parse in a few arguments with this flag which are \n",
    "\n",
    "&emsp; `1 2 3` : where 1 is for the 1st column containing SNP ID, 2nd column is for the effective allele, and 3 is for the effect size estimate\n",
    "\n",
    "&emsp; `header` : is that the file has a header line\n",
    " \n",
    "&emsp; `no-mean-imputation`: we do not want our results for an individual’s PRS to depend on the other individuals in the file\n",
    "\n",
    "\n",
    "`--q-score-range` is to call in the p-value tranches/bins/groups “TRANCHE file” for grouping the p-values and p-values “p-value file” that we parsed in from David Howard’s 2019 MDD paper\n",
    "\n",
    "`--extract` is to compensate for genetic structure observed in humans called linkage disequilibrium \n",
    "\n",
    "`--allow-no-sex` allows for plink to parse the phenotypes of data where sex is missing\n",
    "\n",
    "`--out` is to print out the PRS computation\n"
   ]
  },
  {
   "cell_type": "markdown",
   "metadata": {},
   "source": [
    "Where is our output?"
   ]
  },
  {
   "cell_type": "code",
   "execution_count": null,
   "metadata": {},
   "outputs": [],
   "source": [
    "list.files(path=\"OUTCOME\", pattern=\"MDD.P\")"
   ]
  },
  {
   "cell_type": "code",
   "execution_count": null,
   "metadata": {},
   "outputs": [],
   "source": [
    "list.files(path=\"OUTCOME\", pattern=\"MDD.p\")"
   ]
  },
  {
   "cell_type": "markdown",
   "metadata": {},
   "source": [
    "## Step 3: Analysis of MDD PRS to SSRI Response status\n"
   ]
  },
  {
   "cell_type": "markdown",
   "metadata": {},
   "source": [
    "First, let's read the polygenic scores (`pe2` or p-value tranche of 0.001, i.e. anything lower than 0.001 is included) that we have previously computed and save it into an object named `dataset`"
   ]
  },
  {
   "cell_type": "code",
   "execution_count": null,
   "metadata": {},
   "outputs": [],
   "source": [
    "dataset <- read.table(\"OUTCOME/MDD.pe2.profile\",header=T)"
   ]
  },
  {
   "cell_type": "code",
   "execution_count": null,
   "metadata": {},
   "outputs": [],
   "source": [
    "head(dataset)"
   ]
  },
  {
   "cell_type": "markdown",
   "metadata": {},
   "source": [
    "What's the range of the polygenic risk scores?"
   ]
  },
  {
   "cell_type": "code",
   "execution_count": null,
   "metadata": {},
   "outputs": [],
   "source": [
    "summary(dataset$SCORE)"
   ]
  },
  {
   "cell_type": "markdown",
   "metadata": {},
   "source": [
    "## Step 3.1: Data exploration \n",
    "\n",
    "Now, we will plot histograms of the PRS, and we will specify how many bins should be included (20 and 100).\n",
    "\n",
    "The additional commands below specify the title of the plot ('main=') and the label for the x-axis ('xlab='). It's always a good idea to plot your data throughout the analysis process. Histograms are one of my favourite methods."
   ]
  },
  {
   "cell_type": "markdown",
   "metadata": {},
   "source": [
    "using `R:base` to plot out how the histograms look like"
   ]
  },
  {
   "cell_type": "code",
   "execution_count": null,
   "metadata": {},
   "outputs": [],
   "source": [
    "hist(dataset$SCORE, main=\"20 bins\",xlab=\"MDD pe2 Score\",breaks=20)"
   ]
  },
  {
   "cell_type": "code",
   "execution_count": null,
   "metadata": {},
   "outputs": [],
   "source": [
    "hist(dataset$SCORE,main=\"100 bins\",xlab=\"MDD pe2 Score\",breaks=100)"
   ]
  },
  {
   "cell_type": "markdown",
   "metadata": {},
   "source": [
    "Recall that we can use density plots to compare case/control status for polygenic risk load. "
   ]
  },
  {
   "cell_type": "code",
   "execution_count": null,
   "metadata": {},
   "outputs": [],
   "source": [
    "## calculating the density function\n",
    "noResponse <- density(dataset[dataset$PHENO==1,]$SCORE)\n",
    "Response <- density(dataset[dataset$PHENO==2,]$SCORE)"
   ]
  },
  {
   "cell_type": "code",
   "execution_count": null,
   "metadata": {},
   "outputs": [],
   "source": [
    "## calculate the range for the plot\n",
    "xlim <- range(noResponse$x, Response$x)\n",
    "ylim <- range(0, noResponse$y, Response$y)"
   ]
  },
  {
   "cell_type": "code",
   "execution_count": null,
   "metadata": {},
   "outputs": [],
   "source": [
    "#pick the colours\n",
    "noResponseCol <- rgb(1,0,0,0.2)\n",
    "ResponseCol <- rgb(0,0,1,0.2) "
   ]
  },
  {
   "cell_type": "code",
   "execution_count": null,
   "metadata": {},
   "outputs": [],
   "source": [
    "## plot the no response plot and and set up most of the plot parameters\n",
    "plot(noResponse, xlim = xlim, ylim = ylim, xlab = 'Polygenic Risk Score',\n",
    "     main = 'MDD PRS in relation to the status of SSRI Response', \n",
    "     panel.first = grid())\n",
    "\n",
    "#put our density plots in\n",
    "polygon(noResponse, density = -1, col = noResponseCol)\n",
    "polygon(Response, density = -1, col = ResponseCol)\n",
    "\n",
    "## add a legend in the corner\n",
    "legend('topleft',c('no response to SSRI','has response to SSRI'),\n",
    "       fill = c(noResponseCol, ResponseCol), bty = 'n',\n",
    "       border = NA)"
   ]
  },
  {
   "cell_type": "markdown",
   "metadata": {},
   "source": [
    "### What do you think?\n",
    "\n",
    "Is there a difference/shift in one of the groups? If yes, do you think it would imply a potential polygenic risk load?"
   ]
  },
  {
   "cell_type": "markdown",
   "metadata": {},
   "source": [
    "### Analysis of PRS? Yes/No? \n",
    "\n",
    "Now that we see some slight difference, is there a statistical way to analyse this?\n",
    "\n",
    "Why, yes! With something known as a regression analysis. A regression analysis allows us to test for whether a trait is associated with the PRS that we computed. \n",
    "\n",
    "We can then report a p-value to see if the PRS is statistically significantly associated with the trait. In this case, \"**is MDD PRS associated with SSRI response?\"**."
   ]
  },
  {
   "cell_type": "markdown",
   "metadata": {},
   "source": [
    "## Step 3.2 Capturing ancestry differences in human\n",
    "##### (Timing Check)\n",
    "\n",
    "Humans are different from each other! We need to control for this so that we can improve accuracy of modeling the trait that we plan on modeling.\n",
    "\n",
    "To capture this, we use something known as principal components that were have already precomputed (or we did it in our workshop today)."
   ]
  },
  {
   "cell_type": "code",
   "execution_count": null,
   "metadata": {},
   "outputs": [],
   "source": [
    "# Read the PC file into a file called 'pca'\n",
    "pca <- read.table(\"OUTCOME/PCA_20_for_1000_Genomes.eigenvec\")\n",
    "\n",
    "# Provide the column names with this command.\n",
    "names(pca) <- c(\"FID\",\"IID\",paste0(\"PC\",1:20))\n",
    "\n",
    "# Merge the polygenic score file (dataset) and the pca file (pca). Merging will be based on the \"FID\" and \"IID\" columns.\n",
    "dataset <- merge(dataset,pca,by=c(\"FID\",\"IID\"))"
   ]
  },
  {
   "cell_type": "markdown",
   "metadata": {},
   "source": [
    "## Step 3.3 PRS Analysis\n",
    "\n",
    "Now that we have loaded the principal components, we can finally model our data (to find the association) for\n",
    "     \"**is MDD PRS associated with SSRI response?\"**.\n",
    "\n",
    "We will be using something called a logistic regression analysis. Logistic because the trait that we are testing is a yes/no (binary/dichotomous). A regression analysis, in short would allow us to test whether there is an association of PRS to SSRI response.\n"
   ]
  },
  {
   "cell_type": "markdown",
   "metadata": {},
   "source": [
    "We will run two regression analyses. \n",
    "\n",
    "The first will include the polygenic score as the outcome, adjusting for population ancestry (using 10 PCs), and the variable that we are interested in which is PRS (SCORE):"
   ]
  },
  {
   "cell_type": "code",
   "execution_count": null,
   "metadata": {},
   "outputs": [],
   "source": [
    "Fullmodel <- glm(data = dataset, PHENO-1 ~ SCORE + PC1 + PC2 + PC3 + PC4 + PC5 +\n",
    "                   PC6 + PC7 + PC8 + PC9 + PC10, family = \"binomial\")"
   ]
  },
  {
   "cell_type": "markdown",
   "metadata": {},
   "source": [
    "The second model only includes 10 PCs and _excludes_ (reduced) the PRS (SCORE). "
   ]
  },
  {
   "cell_type": "markdown",
   "metadata": {},
   "source": [
    "Why? We will need to use this for a later analysis in order to see what heritability (trait differences) are we estimating from the PRS\n",
    "\n",
    "Later we will calculate how much phenotypic variance is explained by the full model (PRS + PCs) and how much phenotypic variance is explained by the reduced model (PCs only).  \n",
    "\n",
    "The difference in variance explained between the two models is the amount of variance explained by the polygenic score term. Other than association of a tested trait, this is the primary question that is usually asked in a polygenic scoring study. "
   ]
  },
  {
   "cell_type": "code",
   "execution_count": null,
   "metadata": {},
   "outputs": [],
   "source": [
    "Reducedmodel <- glm(data = dataset, PHENO-1 ~ PC1 + PC2 + PC3 + PC4 + PC5 +\n",
    "                      PC6 + PC7 + PC8 + PC9 + PC10, family = \"binomial\")"
   ]
  },
  {
   "cell_type": "markdown",
   "metadata": {},
   "source": [
    "Let's examine the models"
   ]
  },
  {
   "cell_type": "code",
   "execution_count": null,
   "metadata": {},
   "outputs": [],
   "source": [
    "summary(Fullmodel)"
   ]
  },
  {
   "cell_type": "code",
   "execution_count": null,
   "metadata": {},
   "outputs": [],
   "source": [
    "summary(Reducedmodel)"
   ]
  },
  {
   "cell_type": "markdown",
   "metadata": {},
   "source": [
    "## Step 3.4 Phenotype/ Trait Variance that is explained by PRS\n",
    "\n",
    "Let's now calculate the phenotype / trait variance (that's sometimes also known as heritability) explained by the polygenic scoring 'SCORE' term.\n",
    "\n",
    "We will be using a function from a package that we initially loaded. The package is called `fmsb` and the function that we will be using is called `NagelkerkeR2`. \n",
    "\n",
    "Nagelkerke's R<sup>2</sup> is a metric that we use to explain how much of a trait tested is measured by PRS. This ranges from 0-1. \n",
    "\n",
    "We would usually hope and pray and wish it's as close to 1 but in reality, as we covered at the top of this workshop -- barely 20% is ever explained!"
   ]
  },
  {
   "cell_type": "markdown",
   "metadata": {},
   "source": [
    "This command now calculates Nagelkerke's R<sup>2</sup>. The subsequent command extracts just the R<sup>2</sup> value."
   ]
  },
  {
   "cell_type": "code",
   "execution_count": null,
   "metadata": {},
   "outputs": [],
   "source": [
    "Fullmodel.rsquare <- NagelkerkeR2(Fullmodel)[[2]]\n",
    "Fullmodel.rsquare"
   ]
  },
  {
   "cell_type": "markdown",
   "metadata": {},
   "source": [
    "Similarly, let's compute Nagelkerke's R<sup>2</sup> for the reduced model"
   ]
  },
  {
   "cell_type": "code",
   "execution_count": null,
   "metadata": {},
   "outputs": [],
   "source": [
    "Reducedmodel.rsquare <- NagelkerkeR2(Reducedmodel)[[2]]\n",
    "Reducedmodel.rsquare"
   ]
  },
  {
   "cell_type": "markdown",
   "metadata": {},
   "source": [
    "Each of the values above explain variances in each model. \n",
    "Now, the rationale behind using reduced vs full model comes in.\n",
    "\n",
    "We will take the difference between the two models to see how much is the variance being explained by MDD PRS to SSRI Response.\n",
    "\n",
    "Let's now compute the R<sup>2</sup> difference between the models."
   ]
  },
  {
   "cell_type": "code",
   "execution_count": null,
   "metadata": {},
   "outputs": [],
   "source": [
    "diff.rsquare <- Fullmodel.rsquare -  Reducedmodel.rsquare"
   ]
  },
  {
   "cell_type": "markdown",
   "metadata": {},
   "source": [
    "## Step 3.5 Results (FINALLY)\n",
    "\n",
    "Let's now pull all of the results into one file so that we understand what our data is telling us.\n",
    "\n",
    "First, we will obtain the full model's (including PRS) effect size and p-value for the polygenic score term. Note, again, that this is not significant."
   ]
  },
  {
   "cell_type": "code",
   "execution_count": null,
   "metadata": {},
   "outputs": [],
   "source": [
    "Estimate <- coef(summary(Fullmodel))[2,c(1,4)]"
   ]
  },
  {
   "cell_type": "markdown",
   "metadata": {},
   "source": [
    "Next, we will place these values into a `results` file that contains the difference in R<sup>2</sup> `diff.rsquare`\n",
    "\n",
    "In the subsequent `names(results)` line, we can name column headers manually in order to improve clarity. "
   ]
  },
  {
   "cell_type": "code",
   "execution_count": null,
   "metadata": {},
   "outputs": [],
   "source": [
    "results <- as.data.frame(cbind(Estimate[1],Estimate[2],diff.rsquare))\n",
    "names(results) <- c(\"OR\",\"p-value\",\"NagelkerkeR2\")"
   ]
  },
  {
   "cell_type": "markdown",
   "metadata": {},
   "source": [
    "So, what is the summary of our results?\n",
    "\n",
    "_**drum roll please**_"
   ]
  },
  {
   "cell_type": "code",
   "execution_count": null,
   "metadata": {},
   "outputs": [],
   "source": [
    "results"
   ]
  },
  {
   "cell_type": "markdown",
   "metadata": {},
   "source": [
    "# Breakout session\n",
    "\n",
    "\n",
    "If we have the time, we will try out some practical assignments that we do in genetics.\n",
    "\n",
    "As we eluded to earlier, the variance explained by PRS towards a trait is one of our primary goals. Based on the model that you have ran with the `pe2` tranche, we noticed an R<sup>2</sup> of 7.899513 x 10<sup>-5</sup>.\n",
    "\n",
    "Do you think that this will _increase_ when we loosen up the threshold i.e. use `pe05`, `pe10`? \n",
    "\n",
    "&emsp; This would allow **more SNPs** to be used as reference from the reference data into our test data.\n",
    "\n",
    "Do you think that this will _decrease_ if we make this threshold more stringent i.e. use `pe4`, `pe6`? \n",
    "\n",
    "&emsp; This would allow **less SNPs** to be used as reference from the reference data into our test data.\n",
    "\n",
    "\n",
    "Let's test this out!"
   ]
  },
  {
   "cell_type": "markdown",
   "metadata": {},
   "source": [
    "## Breakout room 1: Testing the INCREASE in p-value tranche threshold\n",
    "\n",
    "Use `pe10`\n",
    "\n",
    "File to use: `OUTCOME/MDD.P10.profile`\n",
    "\n",
    "\n",
    "\n",
    "## Breakout room 2: Testing the DECREASE in p-value tranche threshold\n",
    "\n",
    "Use `pe4`\n",
    "\n",
    "File to use: `OUTCOME/MDD.pe4.profile`"
   ]
  },
  {
   "cell_type": "markdown",
   "metadata": {},
   "source": [
    "## What do you have to do?\n",
    "\n",
    "1) Introduce yourselves! \n",
    "\n",
    "2) Identify a note-taker (and a back up, just in case). This person will also share their screen with the group for code reviewing.\n",
    "\n",
    "3) Identify a reporter who will share your group’s responses with the larger group.\n",
    "  \n",
    "&emsp; Kumar will pop in and out of your rooms to check in; please use the “Ask for Help” button to bring Kumar into your group as and when needed "
   ]
  },
  {
   "cell_type": "markdown",
   "metadata": {},
   "source": [
    "### Steps-by-step guide\n",
    "\n",
    "1) Copy and paste the analysis steps for **Step 3** (Steps 3.1 through 3.5) into separate cells below this cell. _**OR**_ you can just edit the above cells. It's really up to you! \n",
    "\n",
    "2) Choose the appropriate files to run your analysis. All you would have to do is substitute with the appropriate p-value tranche threshold that you were assigned. The command that you would edit is \n",
    "`dataset <- read.table(\"OUTCOME/MDD.pe2.profile\",header=T)`\n",
    "\n",
    "3) Within your group, discuss the \n",
    "\n",
    "&emsp; 3.1) [effect size](https://www.simplypsychology.org/effect-size.html#:~:text=Cohen%20suggested%20that%20d%3D0.2,if%20it%20is%20statistically%20significant.) and p-value contributed by the MDD PRS to SSRI response\n",
    "\n",
    "&emsp; 3.2) Is the effect size the same? \n",
    "\n",
    "&emsp; 3.3) More importantly, what is the Nagelkerke's R<sup>2</sup> and how does it compare to `pe2`? What do you think this means?\n",
    "\n",
    "&emsp; 3.4) Can genetics be any more complex than this?  _groan_\n",
    "\n",
    "_We will broadcast a 2-minute warning when it’s time to start wrapping up._\n",
    "\n",
    "\n",
    "4) Present your group's work by sharing the screen of your reporter. _Each group will have 3-5 minutes to share their discussion points._ "
   ]
  },
  {
   "cell_type": "code",
   "execution_count": null,
   "metadata": {},
   "outputs": [],
   "source": []
  }
 ],
 "metadata": {
  "kernelspec": {
   "display_name": "R",
   "language": "R",
   "name": "ir"
  },
  "language_info": {
   "codemirror_mode": "r",
   "file_extension": ".r",
   "mimetype": "text/x-r-source",
   "name": "R",
   "pygments_lexer": "r",
   "version": "3.6.1"
  }
 },
 "nbformat": 4,
 "nbformat_minor": 4
}
